{
 "cells": [
  {
   "cell_type": "markdown",
   "metadata": {},
   "source": [
    "# Extract CoM seed point from Segmentation Masks\n",
    "\n",
    "The FMCIB `get_features` function expects image paths and seed points. If you have segmentations masks you would like to convert to CoM, this notebook provides instructions on how this can be achieved. \n",
    "\n",
    "Alternatively, you can use our Mhub https://mhub.ai/models/fmcib_radiomics implementation and use the `nrrd_mask_workflow` as mentioned here: https://github.com/MHubAI/documentation/blob/main/documentation/mhub/run_mhub.md#specify-the-workflow\n"
   ]
  },
  {
   "cell_type": "markdown",
   "metadata": {},
   "source": []
  },
  {
   "cell_type": "code",
   "execution_count": 3,
   "metadata": {},
   "outputs": [
    {
     "data": {
      "text/plain": [
       "CompletedProcess(args=\"dcm2niix -o E:\\\\uOttawa\\\\Fall'24 Co-op\\\\Patient 1\\\\1.2.840.113619.2.278.3.2831210243.981.1572215246.359.10489856\\\\totalsegmentator.nii.gz E:\\\\uOttawa\\\\Fall'24 Co-op\\\\Patient 1\\\\1.2.840.113619.2.278.3.2831210243.981.1572215246.359.10489856\\\\totalsegmentator.seg.dcm\", returncode=1)"
      ]
     },
     "execution_count": 3,
     "metadata": {},
     "output_type": "execute_result"
    }
   ],
   "source": [
    "import subprocess\n",
    "\n",
    "# Define the input and output file paths\n",
    "input_file = r\"E:\\uOttawa\\Fall'24 Co-op\\Patient 1\\1.2.840.113619.2.278.3.2831210243.981.1572215246.359.10489856\\totalsegmentator.seg.dcm\"\n",
    "output_file = r\"E:\\uOttawa\\Fall'24 Co-op\\Patient 1\\1.2.840.113619.2.278.3.2831210243.981.1572215246.359.10489856\\totalsegmentator.nii.gz\"\n",
    "\n",
    "# Define the dcm2niix command\n",
    "command = f\"dcm2niix -o {output_file} {input_file}\"\n",
    "\n",
    "# Run the command using subprocess\n",
    "subprocess.run(command, shell=True)"
   ]
  },
  {
   "cell_type": "code",
   "execution_count": 1,
   "metadata": {},
   "outputs": [
    {
     "data": {
      "text/plain": [
       "[]"
      ]
     },
     "execution_count": 1,
     "metadata": {},
     "output_type": "execute_result"
    }
   ],
   "source": [
    "import tensorflow as tf\n",
    "gpus = tf.config.experimental.list_physical_devices('GPU')\n",
    "for gpu in gpus: \n",
    "    tf.config.experimental.set_memory_growth(gpu, True)\n",
    "tf.config.list_physical_devices('GPU')"
   ]
  },
  {
   "cell_type": "code",
   "execution_count": 2,
   "metadata": {},
   "outputs": [],
   "source": [
    "import SimpleITK as sitk\n",
    "from fmcib.utils import download_LUNG1, build_image_seed_dict\n",
    "from fmcib.visualization import visualize_seed_point"
   ]
  },
  {
   "cell_type": "markdown",
   "metadata": {},
   "source": [
    "First, we download a sample from LUNG1 to show the process of centroid extraction. Use your own data here and skip this step. \n",
    "\n",
    "The donwload and conversion will take about a minute. "
   ]
  },
  {
   "cell_type": "code",
   "execution_count": 2,
   "metadata": {},
   "outputs": [
    {
     "name": "stderr",
     "output_type": "stream",
     "text": [
      "2024-08-25 05:44:39.602 | INFO     | fmcib.utils.idc_helper:download_LUNG1:155 - Downloading LUNG1 manifest from Dropbox ...\n",
      "2024-08-25 05:44:42.712 | INFO     | fmcib.utils.idc_helper:download_from_manifest:99 - Downloading DICOM data from IDC (Imaging Data Commons) ...\n",
      "100%|██████████| 119/119 [00:03<00:00, 37.52it/s]\n",
      "2024-08-25 05:44:45.947 | INFO     | fmcib.utils.idc_helper:build_image_seed_dict:264 - Converting DICOM files to NIFTI ...\n",
      "100%|██████████| 1/1 [00:07<00:00,  7.88s/it]\n"
     ]
    },
    {
     "data": {
      "text/html": [
       "<div>\n",
       "<style scoped>\n",
       "    .dataframe tbody tr th:only-of-type {\n",
       "        vertical-align: middle;\n",
       "    }\n",
       "\n",
       "    .dataframe tbody tr th {\n",
       "        vertical-align: top;\n",
       "    }\n",
       "\n",
       "    .dataframe thead th {\n",
       "        text-align: right;\n",
       "    }\n",
       "</style>\n",
       "<table border=\"1\" class=\"dataframe\">\n",
       "  <thead>\n",
       "    <tr style=\"text-align: right;\">\n",
       "      <th></th>\n",
       "      <th>image_path</th>\n",
       "      <th>PatientID</th>\n",
       "      <th>coordX</th>\n",
       "      <th>coordY</th>\n",
       "      <th>coordZ</th>\n",
       "    </tr>\n",
       "  </thead>\n",
       "  <tbody>\n",
       "    <tr>\n",
       "      <th>0</th>\n",
       "      <td>E:\\uOttawa\\Fall'24 Co-op\\foundation-cancer-ima...</td>\n",
       "      <td>LUNG1-141</td>\n",
       "      <td>-65.980066</td>\n",
       "      <td>-16.273922</td>\n",
       "      <td>-403.858686</td>\n",
       "    </tr>\n",
       "  </tbody>\n",
       "</table>\n",
       "</div>"
      ],
      "text/plain": [
       "                                          image_path  PatientID     coordX  \\\n",
       "0  E:\\uOttawa\\Fall'24 Co-op\\foundation-cancer-ima...  LUNG1-141 -65.980066   \n",
       "\n",
       "      coordY      coordZ  \n",
       "0 -16.273922 -403.858686  "
      ]
     },
     "execution_count": 2,
     "metadata": {},
     "output_type": "execute_result"
    }
   ],
   "source": [
    "download_LUNG1(\"dummy\", samples=1)\n",
    "build_image_seed_dict(\"dummy\")"
   ]
  },
  {
   "cell_type": "markdown",
   "metadata": {},
   "source": [
    "Now we get the path to the image and mask. This can be nii.gz, nrrd, mha or other formats supported by MONAI's ITKReader"
   ]
  },
  {
   "cell_type": "code",
   "execution_count": 18,
   "metadata": {},
   "outputs": [],
   "source": [
    "import pathlib\n",
    "\n",
    "dummy_path = pathlib.Path(r\"E:\\uOttawa\\Fall'24 Co-op\\Patient 1\\_zhangjun1__0227094012\\data\")\n",
    "image_path = list(dummy_path.rglob(r\"dicom\\*.dcm\"))[34]\n",
    "mask_path = list(dummy_path.rglob(r\"dicom\\*.dcm\"))[0]"
   ]
  },
  {
   "cell_type": "code",
   "execution_count": 19,
   "metadata": {},
   "outputs": [],
   "source": [
    "row = {\"image_path\": image_path, \"label_path\": mask_path}"
   ]
  },
  {
   "cell_type": "markdown",
   "metadata": {},
   "source": [
    "The visualize seed point utility function also visualizes masks when `label_path` is provided as a key in the dict. "
   ]
  },
  {
   "cell_type": "code",
   "execution_count": 20,
   "metadata": {},
   "outputs": [
    {
     "name": "stderr",
     "output_type": "stream",
     "text": [
      "Since version 1.3.0, affine_grid behavior has changed for unit-size grids when align_corners=True. This is not an intended use case of affine_grid. See the documentation of affine_grid for details.\n"
     ]
    },
    {
     "data": {
      "image/png": "[encoded data removed]",
      "text/plain": [
       "<Figure size 1000x1000 with 3 Axes>"
      ]
     },
     "metadata": {},
     "output_type": "display_data"
    }
   ],
   "source": [
    "visualize_seed_point(row)"
   ]
  },
  {
   "cell_type": "markdown",
   "metadata": {},
   "source": [
    "We can now convert the label to centroid coordinates (in the physical space). For this we,\n",
    "1. Load the mask using SimpleITK\n",
    "2. Use SimpleITK `LabelShapeStatisticsImageFilter` to get the centroid"
   ]
  },
  {
   "cell_type": "markdown",
   "metadata": {},
   "source": []
  },
  {
   "cell_type": "code",
   "execution_count": 21,
   "metadata": {},
   "outputs": [],
   "source": [
    "mask = sitk.ReadImage(mask_path)\n",
    "\n",
    "# get the center of massk from the mask via ITK\n",
    "label_shape_filter = sitk.LabelShapeStatisticsImageFilter()\n",
    "label_shape_filter.Execute(mask)\n",
    "try:\n",
    "    centroid = label_shape_filter.GetCentroid(255)\n",
    "except RuntimeError:\n",
    "    centroid = label_shape_filter.GetCentroid(1)\n",
    "\n",
    "# extract x, y, and z coordinates from the centroid\n",
    "x, y, z = centroid\n",
    "\n",
    "# set up the coordinate dictionary\n",
    "coordinate_dict = {\n",
    "    \"coordX\": x,\n",
    "    \"coordY\": y,\n",
    "    \"coordZ\": z,\n",
    "}"
   ]
  },
  {
   "cell_type": "code",
   "execution_count": 22,
   "metadata": {},
   "outputs": [
    {
     "data": {
      "text/plain": [
       "{'coordX': -11.947617574257407, 'coordY': 25.973855198019805, 'coordZ': -143.5}"
      ]
     },
     "execution_count": 22,
     "metadata": {},
     "output_type": "execute_result"
    }
   ],
   "source": [
    "coordinate_dict"
   ]
  },
  {
   "cell_type": "code",
   "execution_count": 23,
   "metadata": {},
   "outputs": [],
   "source": [
    "row = {\"image_path\": image_path, **coordinate_dict}"
   ]
  },
  {
   "cell_type": "markdown",
   "metadata": {},
   "source": [
    "Now we can call the visualize seed point function again but this time with the `image_path` and coordinate values"
   ]
  },
  {
   "cell_type": "code",
   "execution_count": 24,
   "metadata": {},
   "outputs": [
    {
     "ename": "AssertionError",
     "evalue": "Invalid coordinates: min_d >= max_d",
     "output_type": "error",
     "traceback": [
      "\u001b[1;31m---------------------------------------------------------------------------\u001b[0m",
      "\u001b[1;31mAssertionError\u001b[0m                            Traceback (most recent call last)",
      "Cell \u001b[1;32mIn[24], line 1\u001b[0m\n\u001b[1;32m----> 1\u001b[0m \u001b[43mvisualize_seed_point\u001b[49m\u001b[43m(\u001b[49m\u001b[43mrow\u001b[49m\u001b[43m)\u001b[49m\n",
      "File \u001b[1;32mE:\\uOttawa\\Fall'24 Co-op\\foundation-cancer-image-biomarker\\fmcib\\visualization\\verify_io.py:60\u001b[0m, in \u001b[0;36mvisualize_seed_point\u001b[1;34m(row)\u001b[0m\n\u001b[0;32m     58\u001b[0m \u001b[38;5;28;01massert\u001b[39;00m min_h \u001b[38;5;241m<\u001b[39m max_h, \u001b[38;5;124m\"\u001b[39m\u001b[38;5;124mInvalid coordinates: min_h >= max_h\u001b[39m\u001b[38;5;124m\"\u001b[39m\n\u001b[0;32m     59\u001b[0m \u001b[38;5;28;01massert\u001b[39;00m min_w \u001b[38;5;241m<\u001b[39m max_w, \u001b[38;5;124m\"\u001b[39m\u001b[38;5;124mInvalid coordinates: min_w >= max_w\u001b[39m\u001b[38;5;124m\"\u001b[39m\n\u001b[1;32m---> 60\u001b[0m \u001b[38;5;28;01massert\u001b[39;00m min_d \u001b[38;5;241m<\u001b[39m max_d, \u001b[38;5;124m\"\u001b[39m\u001b[38;5;124mInvalid coordinates: min_d >= max_d\u001b[39m\u001b[38;5;124m\"\u001b[39m\n\u001b[0;32m     62\u001b[0m \u001b[38;5;66;03m# Define the label for the cropped region\u001b[39;00m\n\u001b[0;32m     63\u001b[0m label[:, min_h:max_h, min_w:max_w, min_d:max_d] \u001b[38;5;241m=\u001b[39m \u001b[38;5;241m1\u001b[39m\n",
      "\u001b[1;31mAssertionError\u001b[0m: Invalid coordinates: min_d >= max_d"
     ]
    }
   ],
   "source": [
    "visualize_seed_point(row)"
   ]
  },
  {
   "cell_type": "markdown",
   "metadata": {},
   "source": [
    "The bounding box that will be passed to FMCIB centered around the seed point is now seen. "
   ]
  },
  {
   "cell_type": "code",
   "execution_count": 17,
   "metadata": {},
   "outputs": [
    {
     "name": "stdout",
     "output_type": "stream",
     "text": [
      "Centroid coordinates saved to E:\\\\uOttawa\\\\Fall'24 Co-op\\\\Patient 1\\\\centroid_coordinates.csv\n"
     ]
    }
   ],
   "source": [
    "import pathlib\n",
    "import SimpleITK as sitk\n",
    "import csv\n",
    "\n",
    "# Define the directory containing the images\n",
    "image_dir = pathlib.Path(r\"E:\\\\uOttawa\\\\Fall'24 Co-op\\\\Patient 1\\\\_zhangjun1__0227094012\\\\data\")\n",
    "\n",
    "# Initialize an empty list to store the results\n",
    "results = []\n",
    "\n",
    "# Iterate through each image in the directory\n",
    "for image_path in image_dir.rglob(r\"dicom\\\\*.dcm\"):\n",
    "    try:\n",
    "        # Load the mask using SimpleITK\n",
    "        mask = sitk.ReadImage(str(image_path)) #Since there is no predetermined segmentation mask, we will use the image itself as the mask\n",
    "        \n",
    "        # Extract the centroid coordinates using LabelShapeStatisticsImageFilter\n",
    "        label_shape_filter = sitk.LabelShapeStatisticsImageFilter()\n",
    "        label_shape_filter.Execute(mask)\n",
    "        \n",
    "        try:\n",
    "            centroid = label_shape_filter.GetCentroid(255)\n",
    "        except:\n",
    "            centroid = label_shape_filter.GetCentroid(1)\n",
    "        \n",
    "        # Extract x, y, and z coordinates from the centroid\n",
    "        x, y, z = centroid\n",
    "        \n",
    "        # Append the image path and coordinates to the results list\n",
    "        results.append({\n",
    "            \"image_path\": str(image_path),\n",
    "            \"coordX\": x,\n",
    "            \"coordY\": y,\n",
    "            \"coordZ\": z\n",
    "        })\n",
    "    except Exception as e:\n",
    "        print(f\"Error processing {image_path}: {e}\")\n",
    "\n",
    "# Define the output CSV file path\n",
    "output_csv = r\"E:\\\\uOttawa\\\\Fall'24 Co-op\\\\Patient 1\\\\centroid_coordinates.csv\"\n",
    "\n",
    "# Write the results list to a CSV file\n",
    "with open(output_csv, mode='w', newline='') as file:\n",
    "    writer = csv.DictWriter(file, fieldnames=[\"image_path\", \"coordX\", \"coordY\", \"coordZ\"])\n",
    "    writer.writeheader()\n",
    "    writer.writerows(results)\n",
    "\n",
    "print(f\"Centroid coordinates saved to {output_csv}\")"
   ]
  }
 ],
 "metadata": {
  "kernelspec": {
   "display_name": "fmcib_env",
   "language": "python",
   "name": "python3"
  },
  "language_info": {
   "codemirror_mode": {
    "name": "ipython",
    "version": 3
   },
   "file_extension": ".py",
   "mimetype": "text/x-python",
   "name": "python",
   "nbconvert_exporter": "python",
   "pygments_lexer": "ipython3",
   "version": "3.9.19"
  }
 },
 "nbformat": 4,
 "nbformat_minor": 2
}
